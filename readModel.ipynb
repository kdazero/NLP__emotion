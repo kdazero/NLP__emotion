{
 "cells": [
  {
   "cell_type": "code",
   "execution_count": null,
   "metadata": {},
   "outputs": [],
   "source": [
    "!pip install torch torchvision torchaudio transformers datasets evaluate accelerate scikit-learn"
   ]
  },
  {
   "cell_type": "code",
   "execution_count": 2,
   "metadata": {},
   "outputs": [
    {
     "name": "stderr",
     "output_type": "stream",
     "text": [
      "Device set to use cpu\n"
     ]
    },
    {
     "name": "stdout",
     "output_type": "stream",
     "text": [
      "==================================================\n",
      "文字:備考了一整年，結果考試又沒考過，哈哈哈哈哈\n",
      "心情:悲傷語調\n",
      "分數:0.26210299134254456\n",
      "==================================================\n",
      "文字:最好的朋友要離開臺灣了，以後可能不容易再見面...\n",
      "心情:悲傷語調\n",
      "分數:0.936263382434845\n",
      "==================================================\n",
      "文字:我覺得我快不行了...\n",
      "心情:悲傷語調\n",
      "分數:0.8642680048942566\n",
      "==================================================\n",
      "文字:剛剛收到研究所錄取的通知書！\n",
      "心情:開心語調\n",
      "分數:0.9491955637931824\n",
      "==================================================\n",
      "文字:今年的冬天好像比較晚來。\n",
      "心情:平淡語氣\n",
      "分數:0.9471827149391174\n"
     ]
    }
   ],
   "source": [
    "from transformers import (\n",
    "    AutoTokenizer,\n",
    "    AutoModelForSequenceClassification,\n",
    "    pipeline,\n",
    ")\n",
    "from pprint import pprint\n",
    "\n",
    "model_dir = './output'\n",
    "model = AutoModelForSequenceClassification.from_pretrained(model_dir)\n",
    "tokenizer = AutoTokenizer.from_pretrained(model_dir)\n",
    "pipe = pipeline(task='text-classification', model=model, tokenizer=tokenizer, device=0)\n",
    "\n",
    "emotion_mapping = {\n",
    "    \"平淡語氣\": 0,\n",
    "    \"關切語調\": 1,\n",
    "    \"開心語調\": 2,\n",
    "    \"憤怒語調\": 3,\n",
    "    \"悲傷語調\": 4,\n",
    "    \"疑問語調\": 5,\n",
    "    \"驚奇語調\": 6,\n",
    "    \"厭惡語調\": 7\n",
    "}\n",
    "\n",
    "list_text = [\n",
    "    \"備考了一整年，結果考試又沒考過，哈哈哈哈哈\",\n",
    "\t\"最好的朋友要離開臺灣了，以後可能不容易再見面...\",\n",
    "\t\"我覺得我快不行了...\",\n",
    "\t\"剛剛收到研究所錄取的通知書！\",\n",
    "\t\"今年的冬天好像比較晚來。\"\n",
    "]\n",
    "result = pipe(list_text)\n",
    "reverse_emotion_mapping = {v: k for k, v in emotion_mapping.items()}\n",
    "\n",
    "for i in range(5):\n",
    "  print(\"=\"*50)\n",
    "  print(f\"文字:{list_text[i]}\")\n",
    "  label_number = int(result[i]['label'][-1])\n",
    "  print(f\"心情:{reverse_emotion_mapping[label_number]}\")\n",
    "  print(f\"分數:{result[i]['score']}\")\n"
   ]
  }
 ],
 "metadata": {
  "kernelspec": {
   "display_name": "base",
   "language": "python",
   "name": "python3"
  },
  "language_info": {
   "codemirror_mode": {
    "name": "ipython",
    "version": 3
   },
   "file_extension": ".py",
   "mimetype": "text/x-python",
   "name": "python",
   "nbconvert_exporter": "python",
   "pygments_lexer": "ipython3",
   "version": "3.12.3"
  }
 },
 "nbformat": 4,
 "nbformat_minor": 2
}
